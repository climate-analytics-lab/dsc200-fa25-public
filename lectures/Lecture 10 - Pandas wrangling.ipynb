{
 "cells": [
  {
   "cell_type": "markdown",
   "id": "03ad7f69-c3e9-4ce8-a044-fd12502fd622",
   "metadata": {
    "slideshow": {
     "slide_type": "slide"
    },
    "tags": []
   },
   "source": [
    "# DSC 200: Lecture 10\n",
    "\n",
    "## Pandas continued\n"
   ]
  },
  {
   "cell_type": "markdown",
   "id": "fc93937d",
   "metadata": {
    "slideshow": {
     "slide_type": "slide"
    }
   },
   "source": [
    "## Calculating summary statistics\n",
    "\n",
    "In the next section of this workshop, we will discuss data cleaning for a more meaningful analysis of our datasets; however, we can already extract some interesting insights from the `meteorites` data by calculating summary statistics."
   ]
  },
  {
   "cell_type": "markdown",
   "id": "8f097a4c",
   "metadata": {
    "slideshow": {
     "slide_type": "subslide"
    }
   },
   "source": [
    "#### How many of the meteorites were found versus observed falling?"
   ]
  },
  {
   "cell_type": "code",
   "execution_count": null,
   "id": "f95c9c13",
   "metadata": {},
   "outputs": [],
   "source": [
    "meteorites.fall.value_counts()"
   ]
  },
  {
   "cell_type": "markdown",
   "id": "1b7887e7",
   "metadata": {
    "slideshow": {
     "slide_type": "fragment"
    }
   },
   "source": [
    "*Tip: Pass in `normalize=True` to see this result as percentages. Check the [documentation](https://pandas.pydata.org/docs/reference/api/pandas.Series.value_counts.html) for additional functionality.*"
   ]
  },
  {
   "cell_type": "markdown",
   "id": "6ec71e2d",
   "metadata": {
    "slideshow": {
     "slide_type": "subslide"
    }
   },
   "source": [
    "#### What was the mass of the average meterorite?"
   ]
  },
  {
   "cell_type": "code",
   "execution_count": null,
   "id": "f8cb2237",
   "metadata": {},
   "outputs": [],
   "source": [
    "meteorites['mass (g)'].mean()"
   ]
  },
  {
   "cell_type": "markdown",
   "id": "092ce8ce",
   "metadata": {
    "slideshow": {
     "slide_type": "fragment"
    }
   },
   "source": [
    "**Important**: The mean isn't always the best measure of central tendency. If there are outliers in the distribution, the mean will be skewed. Here, the mean is being pulled higher by some very heavy meteorites &ndash; the distribution is [right-skewed](https://www.analyticsvidhya.com/blog/2020/07/what-is-skewness-statistics/)."
   ]
  },
  {
   "cell_type": "markdown",
   "id": "c03a4dd4",
   "metadata": {
    "slideshow": {
     "slide_type": "subslide"
    }
   },
   "source": [
    "Taking a look at some quantiles at the extremes of the distribution shows that the mean is between the 95th and 99th percentile of the distribution, so it isn't a good measure of central tendency here:"
   ]
  },
  {
   "cell_type": "code",
   "execution_count": null,
   "id": "e68bfba3",
   "metadata": {},
   "outputs": [],
   "source": [
    "meteorites['mass (g)'].quantile([0.01, 0.05, 0.5, 0.95, 0.99])"
   ]
  },
  {
   "cell_type": "markdown",
   "id": "bc6f0335",
   "metadata": {
    "slideshow": {
     "slide_type": "fragment"
    }
   },
   "source": [
    "A better measure in this case is the median (50th percentile), since it is robust to outliers:"
   ]
  },
  {
   "cell_type": "code",
   "execution_count": null,
   "id": "9912ba13",
   "metadata": {},
   "outputs": [],
   "source": [
    "meteorites['mass (g)'].median()"
   ]
  },
  {
   "cell_type": "markdown",
   "id": "f3f33e7c",
   "metadata": {
    "slideshow": {
     "slide_type": "subslide"
    }
   },
   "source": [
    "#### What was the mass of the heaviest meteorite?"
   ]
  },
  {
   "cell_type": "code",
   "execution_count": null,
   "id": "b936ece5",
   "metadata": {},
   "outputs": [],
   "source": [
    "meteorites['mass (g)'].max()"
   ]
  },
  {
   "cell_type": "markdown",
   "id": "f37f2338",
   "metadata": {
    "slideshow": {
     "slide_type": "fragment"
    }
   },
   "source": [
    "Let's extract the information on this meteorite:"
   ]
  },
  {
   "cell_type": "code",
   "execution_count": null,
   "id": "7b85b460",
   "metadata": {},
   "outputs": [],
   "source": [
    "meteorites.loc[meteorites['mass (g)'].idxmax()]"
   ]
  },
  {
   "cell_type": "markdown",
   "id": "e762a4a5",
   "metadata": {
    "slideshow": {
     "slide_type": "subslide"
    }
   },
   "source": [
    "*Fun fact: This meteorite landed in Namibia and is a tourist attraction.*\n",
    "\n",
    "<div>\n",
    "    <img width=\"25%\" style=\"margin-top: -5px; margin-bottom: -5px; min-width: 200px\" src=\"https://upload.wikimedia.org/wikipedia/commons/thumb/a/a7/Hoba_meteorite_%2815682150765%29.jpg/1280px-Hoba_meteorite_%2815682150765%29.jpg\" alt=\"Hoba meteorite (source: Wikipedia)\"/>\n",
    "    <div><small><em>Source: Wikipedia</em></small></div>\n",
    "</div>"
   ]
  },
  {
   "cell_type": "markdown",
   "id": "b4f47697",
   "metadata": {
    "slideshow": {
     "slide_type": "subslide"
    }
   },
   "source": [
    "#### How many different types of meteorite classes are represented in this dataset?"
   ]
  },
  {
   "cell_type": "code",
   "execution_count": null,
   "id": "47287e5d",
   "metadata": {},
   "outputs": [],
   "source": [
    "meteorites.recclass.nunique()"
   ]
  },
  {
   "cell_type": "markdown",
   "id": "8616163a",
   "metadata": {
    "slideshow": {
     "slide_type": "fragment"
    }
   },
   "source": [
    "Some examples:"
   ]
  },
  {
   "cell_type": "code",
   "execution_count": null,
   "id": "abdd9fe3",
   "metadata": {},
   "outputs": [],
   "source": [
    "meteorites.recclass.unique()[:14]"
   ]
  },
  {
   "cell_type": "markdown",
   "id": "e68727dd",
   "metadata": {},
   "source": [
    "*Note: All fields preceded with \"rec\" are the values recommended by The Meteoritical Society. Check out [this Wikipedia article](https://en.wikipedia.org/wiki/Meteorite_classification) for some information on meteorite classes.*"
   ]
  },
  {
   "cell_type": "markdown",
   "id": "ea0ad104",
   "metadata": {
    "slideshow": {
     "slide_type": "subslide"
    }
   },
   "source": [
    "#### Get some summary statistics on the data itself\n",
    "We can get common summary statistics for all columns at once. By default, this will only be numeric columns, but here, we will summarize everything together:"
   ]
  },
  {
   "cell_type": "code",
   "execution_count": null,
   "id": "b1249aba",
   "metadata": {},
   "outputs": [],
   "source": [
    "meteorites.describe(include='all')"
   ]
  },
  {
   "cell_type": "markdown",
   "id": "25175ece",
   "metadata": {
    "slideshow": {
     "slide_type": "notes"
    }
   },
   "source": [
    "**Important**: `NaN` values signify missing data. For instance, the `fall` column contains strings, so there is no value for `mean`; likewise, `mass (g)` is numeric, so we don't have entries for the categorical summary statistics (`unique`, `top`, `freq`)."
   ]
  },
  {
   "cell_type": "markdown",
   "id": "05ea49bd",
   "metadata": {
    "slideshow": {
     "slide_type": "subslide"
    }
   },
   "source": [
    "#### Check out the documentation for more descriptive statistics:\n",
    "\n",
    "- [Series](https://pandas.pydata.org/docs/reference/series.html#computations-descriptive-stats)\n",
    "- [DataFrame](https://pandas.pydata.org/docs/reference/frame.html#computations-descriptive-stats)"
   ]
  },
  {
   "cell_type": "markdown",
   "id": "c7daf2bb",
   "metadata": {
    "slideshow": {
     "slide_type": "slide"
    }
   },
   "source": [
    "## Group-by operations"
   ]
  },
  {
   "cell_type": "markdown",
   "id": "aa4e16de",
   "metadata": {},
   "source": [
    "Rather than perform aggregations, like `mean()` or `describe()`, on the full dataset at once, we can perform these calculations per group by first calling `groupby()`:"
   ]
  },
  {
   "cell_type": "code",
   "execution_count": null,
   "id": "e08be477",
   "metadata": {
    "slideshow": {
     "slide_type": "subslide"
    }
   },
   "outputs": [],
   "source": [
    "import numpy as np\n",
    "meteorites.groupby('recclass').describe(include=np.number)"
   ]
  },
  {
   "cell_type": "code",
   "execution_count": null,
   "id": "360cf401",
   "metadata": {},
   "outputs": [],
   "source": [
    "meteorites.groupby('recclass')['mass (g)'].mean().head()"
   ]
  },
  {
   "cell_type": "code",
   "execution_count": null,
   "id": "cb101ded",
   "metadata": {
    "slideshow": {
     "slide_type": "subslide"
    }
   },
   "outputs": [],
   "source": [
    "meteorites.groupby('recclass').agg({'mass (g)':['mean', 'std'], 'name': ['count']}).head()"
   ]
  },
  {
   "cell_type": "markdown",
   "id": "5113d9a4",
   "metadata": {
    "slideshow": {
     "slide_type": "subslide"
    }
   },
   "source": [
    "We are only scratching the surface; some additional functionalities to be aware of include the following:\n",
    "- We can group by multiple columns &ndash; this creates a hierarchical index.\n",
    "- Groups can be excluded from calculations with the `filter()` method.\n",
    "- We can group on content in the index using the `level` or `name` parameters e.g., `groupby(level=0)` or `groupby(name='year')`.\n",
    "- We can group by date ranges if we use a `pd.Grouper()` object."
   ]
  },
  {
   "cell_type": "markdown",
   "id": "4a22e524",
   "metadata": {
    "slideshow": {
     "slide_type": "slide"
    }
   },
   "source": [
    "## Data Wrangling"
   ]
  },
  {
   "cell_type": "markdown",
   "id": "bce897fa",
   "metadata": {
    "slideshow": {
     "slide_type": "fragment"
    }
   },
   "source": [
    "To prepare our data for analysis, we need to perform data wrangling. \n",
    "\n",
    "In this lecture, we will learn how to clean and reformat data (e.g., renaming columns and fixing data type mismatches), restructure/reshape it, and enrich it (e.g., discretizing columns, calculating aggregations, and combining data sources)."
   ]
  },
  {
   "cell_type": "markdown",
   "id": "d1acd617-c093-4406-9ea8-61289e29e12c",
   "metadata": {
    "slideshow": {
     "slide_type": "slide"
    },
    "tags": []
   },
   "source": [
    "## Data cleaning\n",
    "\n",
    "In this section, we will take a look at creating, renaming, and dropping columns; type conversion; and sorting &ndash; all of which make our analysis easier. We will be working with the 2019 Yellow Taxi Trip Data provided by NYC Open Data."
   ]
  },
  {
   "cell_type": "code",
   "execution_count": null,
   "id": "c91ca2ea-c35b-455d-bbc9-312b47c864e4",
   "metadata": {
    "slideshow": {
     "slide_type": "subslide"
    }
   },
   "outputs": [],
   "source": [
    "import pandas as pd\n",
    "\n",
    "taxis = pd.read_csv('../data/2019_Yellow_Taxi_Trip_Data.csv')\n",
    "taxis.info()"
   ]
  },
  {
   "cell_type": "markdown",
   "id": "d65aa6c3-092a-4ed9-95aa-57e8ec41e131",
   "metadata": {},
   "source": [
    "*Source: [NYC Open Data](https://data.cityofnewyork.us/Transportation/2019-Yellow-Taxi-Trip-Data/2upf-qytp) collected via [SODA](https://dev.socrata.com/foundry/data.cityofnewyork.us/2upf-qytp).*"
   ]
  },
  {
   "cell_type": "markdown",
   "id": "79315a59-bc5b-4bd2-a25a-8f2de24217e2",
   "metadata": {
    "slideshow": {
     "slide_type": "subslide"
    },
    "tags": []
   },
   "source": [
    "### Dropping columns\n",
    "Let's start by dropping the ID columns and the `store_and_fwd_flag` column, which we won't be using."
   ]
  },
  {
   "cell_type": "code",
   "execution_count": null,
   "id": "e782b52c-dc8c-4aac-ba6d-f3b3cd7b5f2c",
   "metadata": {
    "slideshow": {
     "slide_type": "fragment"
    },
    "tags": []
   },
   "outputs": [],
   "source": [
    "mask = taxis.columns.str.contains('id$|store_and_fwd_flag', regex=True)\n",
    "columns_to_drop = taxis.columns[mask]\n",
    "columns_to_drop"
   ]
  },
  {
   "cell_type": "code",
   "execution_count": null,
   "id": "bc0652f8-87af-43dd-82d0-07ba120b05f8",
   "metadata": {
    "slideshow": {
     "slide_type": "subslide"
    },
    "tags": []
   },
   "outputs": [],
   "source": [
    "taxis = taxis.drop(columns=columns_to_drop)\n",
    "taxis.head()"
   ]
  },
  {
   "cell_type": "markdown",
   "id": "b6581776-8391-41a3-a7fa-c65af402da77",
   "metadata": {
    "slideshow": {
     "slide_type": "fragment"
    },
    "tags": []
   },
   "source": [
    "*Tip: Another way to do this is to select the columns we want to keep: `taxis.loc[:,~mask]`.*"
   ]
  },
  {
   "cell_type": "markdown",
   "id": "23cc920e-4af6-456b-a0ce-87ade2b189ac",
   "metadata": {
    "slideshow": {
     "slide_type": "subslide"
    },
    "tags": []
   },
   "source": [
    "### Renaming columns\n",
    "\n",
    "Next, let's rename the datetime columns:"
   ]
  },
  {
   "cell_type": "code",
   "execution_count": null,
   "id": "32ec2dc4-c8c3-424d-ae36-d732907b9f59",
   "metadata": {},
   "outputs": [],
   "source": [
    "taxis = taxis.rename(\n",
    "    columns={\n",
    "        'tpep_pickup_datetime': 'pickup', \n",
    "        'tpep_dropoff_datetime': 'dropoff'\n",
    "    }\n",
    ")\n",
    "taxis.columns"
   ]
  },
  {
   "cell_type": "markdown",
   "id": "d74d21a8-d733-4afa-a140-29ccdcd83b46",
   "metadata": {
    "slideshow": {
     "slide_type": "subslide"
    },
    "tags": []
   },
   "source": [
    "### Type conversion\n",
    "\n",
    "Notice anything off with the data types?"
   ]
  },
  {
   "cell_type": "code",
   "execution_count": null,
   "id": "b5ff546c-4a66-4102-b947-1d9147e89369",
   "metadata": {},
   "outputs": [],
   "source": [
    "taxis.dtypes"
   ]
  },
  {
   "cell_type": "markdown",
   "id": "fa644cbb-24dd-4a62-a350-f773c54c50fe",
   "metadata": {
    "slideshow": {
     "slide_type": "subslide"
    },
    "tags": []
   },
   "source": [
    "Both `pickup` and `dropoff` should be stored as datetimes. Let's fix this:"
   ]
  },
  {
   "cell_type": "code",
   "execution_count": null,
   "id": "01299409-aace-4d41-bea5-7bd40a85e620",
   "metadata": {},
   "outputs": [],
   "source": [
    "taxis[['pickup', 'dropoff']] = \\\n",
    "    taxis[['pickup', 'dropoff']].apply(pd.to_datetime)\n",
    "taxis.dtypes"
   ]
  },
  {
   "cell_type": "markdown",
   "id": "837ea457-45d8-4dae-aa0e-746be381f4da",
   "metadata": {
    "slideshow": {
     "slide_type": "notes"
    }
   },
   "source": [
    "*Tip: There are other ways to perform type conversion. For numeric values, we can use the `pd.to_numeric()` function, and we will see the `astype()` method, which is a more generic method, a little later.*"
   ]
  },
  {
   "cell_type": "markdown",
   "id": "5a8fafca-8cf2-4402-ab34-758dabe955e2",
   "metadata": {
    "slideshow": {
     "slide_type": "subslide"
    },
    "tags": []
   },
   "source": [
    "### Creating new columns\n",
    "\n",
    "Let's calculate the following for each row:\n",
    "\n",
    "1. elapsed time of the trip\n",
    "2. the tip percentage\n",
    "3. the total taxes, tolls, fees, and surcharges\n",
    "4. the average speed of the taxi"
   ]
  },
  {
   "cell_type": "code",
   "execution_count": 9,
   "id": "644ba83f-f834-4296-971e-5e7b07b955a8",
   "metadata": {
    "slideshow": {
     "slide_type": "fragment"
    },
    "tags": []
   },
   "outputs": [],
   "source": [
    "taxis = taxis.assign(\n",
    "    elapsed_time=lambda x: x.dropoff - x.pickup, # 1\n",
    "    cost_before_tip=lambda x: x.total_amount - x.tip_amount,\n",
    "    tip_pct=lambda x: x.tip_amount / x.cost_before_tip, # 2\n",
    "    fees=lambda x: x.cost_before_tip - x.fare_amount, # 3\n",
    "    avg_speed=lambda x: x.trip_distance.div(\n",
    "        x.elapsed_time.dt.total_seconds() / 60 / 60\n",
    "    ) # 4\n",
    ")"
   ]
  },
  {
   "cell_type": "markdown",
   "id": "b0b2af8a-0727-4e08-a07d-64ddb73a71dd",
   "metadata": {
    "slideshow": {
     "slide_type": "subslide"
    },
    "tags": []
   },
   "source": [
    "Our new columns get added to the right:"
   ]
  },
  {
   "cell_type": "code",
   "execution_count": null,
   "id": "ec0a2df8-4f40-4bb0-8cd8-0f558d218fd6",
   "metadata": {},
   "outputs": [],
   "source": [
    "taxis.head(2)"
   ]
  },
  {
   "cell_type": "markdown",
   "id": "15049dfd-dd9e-4365-8ecf-0a74f5fe3498",
   "metadata": {
    "slideshow": {
     "slide_type": "subslide"
    },
    "tags": []
   },
   "source": [
    "Some things to note:\n",
    "- We used `lambda` functions to 1) avoid typing `taxis` repeatedly and 2) be able to access the `cost_before_tip` and `elapsed_time` columns in the same method that we create them.\n",
    "- To create a single new column, we can also use `df['new_col'] = <values>`."
   ]
  },
  {
   "cell_type": "markdown",
   "id": "f1ebce53-9f31-4aa0-806d-a1a9fa43ece1",
   "metadata": {
    "slideshow": {
     "slide_type": "subslide"
    },
    "tags": []
   },
   "source": [
    "### Sorting by values\n",
    "\n",
    "We can use the `sort_values()` method to sort based on any number of columns:"
   ]
  },
  {
   "cell_type": "code",
   "execution_count": null,
   "id": "77dbdd94-e6b7-4fb9-b6b1-718633b0a38a",
   "metadata": {},
   "outputs": [],
   "source": [
    "taxis.sort_values(['passenger_count', 'pickup'], ascending=[False, True]).head()"
   ]
  },
  {
   "cell_type": "markdown",
   "id": "e8d98a7c-7f12-43b7-9450-f0c0fa3162d3",
   "metadata": {
    "slideshow": {
     "slide_type": "subslide"
    },
    "tags": []
   },
   "source": [
    "To pick out the largest/smallest rows, use `nlargest()` / `nsmallest()` instead. Looking at the 3 trips with the longest elapsed time, we see some possible data integrity issues:"
   ]
  },
  {
   "cell_type": "code",
   "execution_count": null,
   "id": "e1a26519-acb9-49e5-af1c-f5b055413bf8",
   "metadata": {
    "scrolled": true
   },
   "outputs": [],
   "source": [
    "taxis.nlargest(3, 'elapsed_time')"
   ]
  },
  {
   "cell_type": "markdown",
   "id": "8b41d003",
   "metadata": {
    "slideshow": {
     "slide_type": "subslide"
    }
   },
   "source": [
    "### Exercise 1.\n",
    "\n",
    "Read in the meteorite data from the `Meteorite_Landings.csv` file, rename the `mass (g)` column to `mass`, and drop all the latitude and longitude columns. Sort the result by mass in descending order."
   ]
  },
  {
   "cell_type": "code",
   "execution_count": null,
   "id": "51e65953",
   "metadata": {},
   "outputs": [],
   "source": [
    "meteorites = pd.read_csv('../data/Meteorite_Landings.csv')\n",
    "meteorites = meteorites.rename(columns={'mass (g)': 'mass'})\n",
    "meteorites.drop(columns=['reclat', 'reclong']).sort_values('mass', ascending=False)"
   ]
  },
  {
   "cell_type": "markdown",
   "id": "97d61c46-b1f4-4531-8a2c-0ac8fcce6007",
   "metadata": {
    "slideshow": {
     "slide_type": "slide"
    },
    "tags": []
   },
   "source": [
    "## Working with the index\n",
    "\n",
    "So far, we haven't really worked with the index because it's just been a row number; however, we can change the values we have in the index to access additional features of the pandas library."
   ]
  },
  {
   "cell_type": "markdown",
   "id": "cacbf64c-6356-4a2d-8a86-bd143d42914d",
   "metadata": {
    "slideshow": {
     "slide_type": "subslide"
    },
    "tags": []
   },
   "source": [
    "### Setting and sorting the index\n",
    "\n",
    "Currently, we have a RangeIndex, but we can switch to a DatetimeIndex by specifying a datetime column when calling `set_index()`:"
   ]
  },
  {
   "cell_type": "code",
   "execution_count": null,
   "id": "223e2254-fef2-463f-841b-7b62e04cab4b",
   "metadata": {},
   "outputs": [],
   "source": [
    "taxis = taxis.set_index('pickup')\n",
    "taxis.head(3)"
   ]
  },
  {
   "cell_type": "markdown",
   "id": "1e150b7a-cc6c-4b2a-a32c-13513e1fd518",
   "metadata": {
    "slideshow": {
     "slide_type": "subslide"
    },
    "tags": []
   },
   "source": [
    "Since we have a sample of the full dataset, let's sort the index to order by pickup time:"
   ]
  },
  {
   "cell_type": "code",
   "execution_count": 20,
   "id": "10477bf0-2d83-478c-8f9a-f15ba363b74c",
   "metadata": {},
   "outputs": [],
   "source": [
    "taxis = taxis.sort_index()"
   ]
  },
  {
   "cell_type": "markdown",
   "id": "a1c718db-b445-4290-b5bc-6afa51e45eac",
   "metadata": {
    "slideshow": {
     "slide_type": "fragment"
    },
    "tags": []
   },
   "source": [
    "*Tip: `taxis.sort_index(axis=1)` will sort the columns by name. The `axis` parameter is present throughout the pandas library: `axis=0` targets rows and `axis=1` targets columns.*"
   ]
  },
  {
   "cell_type": "markdown",
   "id": "b44074fe-6b74-4a2d-80b0-e5ed7fc7c9f6",
   "metadata": {
    "slideshow": {
     "slide_type": "subslide"
    },
    "tags": []
   },
   "source": [
    "We can now select ranges from our data based on the datetime the same way we did with row numbers:"
   ]
  },
  {
   "cell_type": "code",
   "execution_count": null,
   "id": "825b2083-236c-4cfe-957d-4242619c659d",
   "metadata": {},
   "outputs": [],
   "source": [
    "taxis['2019-10-23 07:45':'2019-10-23 08']"
   ]
  },
  {
   "cell_type": "markdown",
   "id": "c88bc8bb-a159-4347-84f5-654315facd1e",
   "metadata": {
    "slideshow": {
     "slide_type": "subslide"
    },
    "tags": []
   },
   "source": [
    "When not specifying a range, we use `loc[]`:"
   ]
  },
  {
   "cell_type": "code",
   "execution_count": null,
   "id": "fef82610-a9ca-47f3-b8f9-fca6cb8215c6",
   "metadata": {},
   "outputs": [],
   "source": [
    "taxis.loc['2019-10-23 08']"
   ]
  },
  {
   "cell_type": "markdown",
   "id": "0684e96e-6c5e-4405-8103-92ae722d9c3e",
   "metadata": {
    "slideshow": {
     "slide_type": "subslide"
    },
    "tags": []
   },
   "source": [
    "### Resetting the index\n",
    "\n",
    "We will be working with time series later this section, but sometimes we want to reset our index to row numbers and restore the columns. We can make `pickup` a column again with the `reset_index()` method:"
   ]
  },
  {
   "cell_type": "code",
   "execution_count": null,
   "id": "18a6c75b-fa89-4602-b9df-e18ea51d73b6",
   "metadata": {
    "scrolled": true
   },
   "outputs": [],
   "source": [
    "taxis = taxis.reset_index()\n",
    "taxis.head()"
   ]
  },
  {
   "cell_type": "markdown",
   "id": "f2e80e6c",
   "metadata": {
    "slideshow": {
     "slide_type": "subslide"
    }
   },
   "source": [
    "### Exercise 2\n",
    "\n",
    "Using the meteorite data from the `Meteorite_Landings.csv` file, update the `year` column to only contain the year, convert it to a numeric data type, and create a new column indicating whether the meteorite was observed falling before 1970. \n",
    "\n",
    "Set the index to the `id` column and extract all the rows with IDs between 10,036 and 10,040 (inclusive) with `loc[]`.\n",
    "\n",
    "**Hint 1**: Use `year.str.slice()` to grab a substring.\n",
    "\n",
    "**Hint 2**: Make sure to sort the index before using `loc[]` to select the range.\n",
    "\n",
    "***Bonus**: There's a data entry error in the `year` column. Can you find it? (Don't spend too much time on this.)*"
   ]
  },
  {
   "cell_type": "code",
   "execution_count": null,
   "id": "30fc7828",
   "metadata": {},
   "outputs": [],
   "source": []
  }
 ],
 "metadata": {
  "celltoolbar": "Slideshow",
  "kernelspec": {
   "display_name": "Python 3 (ipykernel)",
   "language": "python",
   "name": "python3"
  },
  "language_info": {
   "codemirror_mode": {
    "name": "ipython",
    "version": 3
   },
   "file_extension": ".py",
   "mimetype": "text/x-python",
   "name": "python",
   "nbconvert_exporter": "python",
   "pygments_lexer": "ipython3",
   "version": "3.9.20"
  }
 },
 "nbformat": 4,
 "nbformat_minor": 5
}
