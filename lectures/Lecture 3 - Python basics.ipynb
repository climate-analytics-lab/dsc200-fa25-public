{
 "cells": [
  {
   "cell_type": "markdown",
   "id": "f15fef7e",
   "metadata": {
    "slideshow": {
     "slide_type": "slide"
    }
   },
   "source": [
    "# DSC200 - Lecture 3\n",
    "\n",
    "## Python Basics - part 2"
   ]
  },
  {
   "cell_type": "code",
   "execution_count": null,
   "id": "73bd468c",
   "metadata": {},
   "outputs": [],
   "source": []
  },
  {
   "cell_type": "markdown",
   "id": "bf2140c1",
   "metadata": {
    "slideshow": {
     "slide_type": "slide"
    }
   },
   "source": [
    "## Announcement\n",
    "\n",
    "The first *weekly quiz* is now available on Canvas. It's only short and is due on Sunday, October 5th at 11:59pm.\n",
    "\n",
    "The questions are based on the material covered Wednesday and today."
   ]
  },
  {
   "cell_type": "markdown",
   "id": "3c2d60e0",
   "metadata": {
    "slideshow": {
     "slide_type": "slide"
    }
   },
   "source": [
    "## Recap\n",
    "\n",
    "In the last lecture, we covered the following topics:\n",
    " - The Python programming language\n",
    " - Basic data types and structures, including numbers, strings, and lists\n",
    " - Dictionaries and sets\n",
    " - Comments and print statements\n"
   ]
  },
  {
   "cell_type": "markdown",
   "id": "9b6c8125",
   "metadata": {
    "slideshow": {
     "slide_type": "subslide"
    }
   },
   "source": [
    "Today, we will cover the following topics:\n",
    " - \n",
    " - Control flow statements\n",
    "   - Loops\n",
    "   - Conditional statements\n",
    " - Functions\n",
    "    - Lambda functions\n",
    "\n",
    " - Map, Filter, and Reduce\n",
    " \n",
    " And maybe:\n",
    " - Iterators and Generators\n",
    " - Recursion\n"
   ]
  },
  {
   "cell_type": "markdown",
   "id": "2c8b302f",
   "metadata": {
    "slideshow": {
     "slide_type": "slide"
    }
   },
   "source": [
    "## Python Operators\n",
    "\n",
    "Operators are used to compute data in Python:\n",
    "\n",
    " - Arithmetic operators: `+`, `-`, `*`, `/`, `//`, `**`.\n",
    "    - Modulus operator `%` returns the remainder of the division.\n",
    " - Comparison operators: `==`, `!=`, `>`, `<`, `>=`, `<=`.\n",
    " - Assignment operators: `=`, `+=`, `-=`, `*=`,\n",
    "\n",
    " A full list of Python operators can be found [here](https://www.tutorialspoint.com/python/python_basic_operators.htm)."
   ]
  },
  {
   "cell_type": "code",
   "execution_count": 12,
   "id": "c6e43c36",
   "metadata": {
    "slideshow": {
     "slide_type": "subslide"
    }
   },
   "outputs": [
    {
     "name": "stdout",
     "output_type": "stream",
     "text": [
      "2\n",
      "False\n",
      "4.666666666666666\n",
      "33\n"
     ]
    }
   ],
   "source": [
    "x = 11\n",
    "y = 3\n",
    "print(x % y)  # Output: 2\n",
    "print(x == y)  # Output: False\n",
    "print(1 + x / y)  # Output: 4.666666...\n",
    "x *= y\n",
    "print(x)  # Output: 33\n"
   ]
  },
  {
   "cell_type": "markdown",
   "id": "9b72bee2",
   "metadata": {
    "slideshow": {
     "slide_type": "slide"
    }
   },
   "source": [
    "## Control Flow: Conditionals and Loops\n",
    "\n",
    "Control flow allows for the manipulation of the order in which code is executed."
   ]
  },
  {
   "cell_type": "markdown",
   "id": "32064cb2",
   "metadata": {
    "slideshow": {
     "slide_type": "subslide"
    }
   },
   "source": [
    "### Conditionals\n",
    "\n",
    "Conditionals control which code block is executed based on specific conditions using `if`, `else`, and `elif`."
   ]
  },
  {
   "cell_type": "code",
   "execution_count": 13,
   "id": "6e19a0c7",
   "metadata": {
    "slideshow": {
     "slide_type": "fragment"
    }
   },
   "outputs": [
    {
     "name": "stdout",
     "output_type": "stream",
     "text": [
      "x is greater than y\n"
     ]
    }
   ],
   "source": [
    "if x > y:\n",
    "    print(\"x is greater than y\")\n",
    "else:\n",
    "    print(\"x is not greater than y\")\n"
   ]
  },
  {
   "cell_type": "markdown",
   "id": "1b0c212d",
   "metadata": {
    "slideshow": {
     "slide_type": "subslide"
    }
   },
   "source": [
    "What is the output of the following code?\n",
    "\n",
    " - A. 100\n",
    " - B. 150\n",
    " - C. The size of the summer camp is exploding! It is 150\n",
    " - D. The size of the summer camp is at the limit\n",
    " \n",
    "Code: `lec3-1`"
   ]
  },
  {
   "cell_type": "code",
   "execution_count": 14,
   "id": "a8170809",
   "metadata": {},
   "outputs": [
    {
     "name": "stdout",
     "output_type": "stream",
     "text": [
      "The size of the summer camp is exploding! It is  150\n"
     ]
    }
   ],
   "source": [
    "number_of_students = 100\n",
    "\n",
    "additional_students = 50\n",
    "number_of_students += additional_students\n",
    "\n",
    "if number_of_students < 120:\n",
    "    print(number_of_students)\n",
    "elif number_of_students > 120:\n",
    "    print(\"The size of the summer camp is exploding! It is \", number_of_students)\n",
    "else:\n",
    "    print(\"The size of the summer camp is at the limit.\")"
   ]
  },
  {
   "cell_type": "markdown",
   "id": "bd45834f",
   "metadata": {
    "slideshow": {
     "slide_type": "slide"
    }
   },
   "source": [
    "### Loops\n",
    "\n",
    "Loops allow for repetitive tasks without writing redundant code.\n"
   ]
  },
  {
   "cell_type": "markdown",
   "id": "133dd706",
   "metadata": {
    "slideshow": {
     "slide_type": "subslide"
    }
   },
   "source": [
    "\n",
    "**`while` loop**: repeats while a condition is `True`."
   ]
  },
  {
   "cell_type": "code",
   "execution_count": 15,
   "id": "bd04c1a9",
   "metadata": {},
   "outputs": [
    {
     "name": "stdout",
     "output_type": "stream",
     "text": [
      "Enter an int to add (0 to end): 5\n",
      "Enter an int to add (0 to end): 7\n",
      "Enter an int to add (0 to end): 8\n",
      "Enter an int to add (0 to end): 0\n",
      "20\n"
     ]
    }
   ],
   "source": [
    "sum = 0\n",
    "endFound = False\n",
    "while not endFound:\n",
    "    x = int(input(\"Enter an int to add (0 to end): \"))\n",
    "    if x == 0:\n",
    "        endFound = True\n",
    "    else:\n",
    "        sum += x\n",
    "print(sum)\n"
   ]
  },
  {
   "cell_type": "markdown",
   "id": "110e916f",
   "metadata": {
    "slideshow": {
     "slide_type": "subslide"
    }
   },
   "source": [
    "**`for` loop**: repeats for a known (but unspecified) number of iterations."
   ]
  },
  {
   "cell_type": "code",
   "execution_count": 16,
   "id": "a68af725",
   "metadata": {},
   "outputs": [
    {
     "name": "stdout",
     "output_type": "stream",
     "text": [
      "0\n",
      "4\n",
      "0\n",
      "6\n",
      "5\n"
     ]
    }
   ],
   "source": [
    "my_list = [0, 4, 0, 6, 5]\n",
    "for u in my_list:\n",
    "    print(u)\n"
   ]
  },
  {
   "cell_type": "markdown",
   "id": "bdb3ed54",
   "metadata": {
    "slideshow": {
     "slide_type": "subslide"
    }
   },
   "source": [
    "This makes loops more predictable and easier to read. If you ever need the loop index, you can use the `enumerate()` function:"
   ]
  },
  {
   "cell_type": "code",
   "execution_count": 17,
   "id": "99ffa867",
   "metadata": {},
   "outputs": [
    {
     "name": "stdout",
     "output_type": "stream",
     "text": [
      "0 0\n",
      "1 4\n",
      "2 0\n",
      "3 6\n",
      "4 5\n"
     ]
    }
   ],
   "source": [
    "for i, item in enumerate(my_list):\n",
    "    print(i, item)"
   ]
  },
  {
   "cell_type": "markdown",
   "id": "97f3c6ca",
   "metadata": {
    "slideshow": {
     "slide_type": "subslide"
    }
   },
   "source": [
    "### Break and Continue\n",
    "\n",
    "- **`break`** terminates the loop.\n",
    "- **`continue`** skips the current iteration and moves to the next."
   ]
  },
  {
   "cell_type": "code",
   "execution_count": 19,
   "id": "a3d40379",
   "metadata": {},
   "outputs": [
    {
     "name": "stdout",
     "output_type": "stream",
     "text": [
      "User, type a word: fdtfrtafdh\n",
      "Current Letter: f\n",
      "Current Letter: d\n",
      "Current Letter: t\n",
      "Current Letter: f\n",
      "Current Letter: r\n",
      "Current Letter: t\n",
      "Current Letter: f\n",
      "Current Letter: d\n",
      "the End\n"
     ]
    }
   ],
   "source": [
    "text = input(\"User, type a word: \")\n",
    "for letter in text:\n",
    "    if letter == 'h':\n",
    "        break     # exit the loop\n",
    "    elif letter == 'a':\n",
    "        continue  # skip the rest of the block\n",
    "    print('Current Letter:', letter)\n",
    "print('the End')\n"
   ]
  },
  {
   "cell_type": "markdown",
   "id": "9754a84c",
   "metadata": {
    "slideshow": {
     "slide_type": "subslide"
    }
   },
   "source": [
    "## Practice Problem: Unique Characters in a String\n",
    "\n",
    "Write a program that checks if a given string has unique characters.\n",
    "\n",
    "*hint*: Sets are useful for removing duplicates."
   ]
  },
  {
   "cell_type": "code",
   "execution_count": null,
   "id": "a6762791",
   "metadata": {},
   "outputs": [],
   "source": []
  },
  {
   "cell_type": "markdown",
   "id": "93da7fb4",
   "metadata": {
    "slideshow": {
     "slide_type": "subslide"
    }
   },
   "source": [
    "## Functions\n",
    "\n",
    "Functions help improve readability and usability by encapsulating code.\n",
    "\n",
    "- Functions hide details of what exactly is going on inside a program.\n",
    "- Functions consist of parameters, a function body, and a return expression."
   ]
  },
  {
   "cell_type": "code",
   "execution_count": 20,
   "id": "883bd7ce",
   "metadata": {},
   "outputs": [
    {
     "name": "stdout",
     "output_type": "stream",
     "text": [
      "None\n"
     ]
    }
   ],
   "source": [
    "def boring_function():\n",
    "    pass\n",
    "\n",
    "print(boring_function())\n"
   ]
  },
  {
   "cell_type": "code",
   "execution_count": 21,
   "id": "dea30767",
   "metadata": {
    "slideshow": {
     "slide_type": "subslide"
    }
   },
   "outputs": [
    {
     "name": "stdout",
     "output_type": "stream",
     "text": [
      "This is an example function\n"
     ]
    }
   ],
   "source": [
    "def example_function():\n",
    "    return \"This is an example function\"\n",
    "\n",
    "print(example_function())\n"
   ]
  },
  {
   "cell_type": "markdown",
   "id": "2abf7c84",
   "metadata": {
    "slideshow": {
     "slide_type": "subslide"
    }
   },
   "source": [
    "### Parameters vs Arguments\n",
    "\n",
    "Parameters are the inputs defined by the function, while arguments are the actual values you pass in when calling the function."
   ]
  },
  {
   "cell_type": "code",
   "execution_count": 22,
   "id": "e6ffa732",
   "metadata": {},
   "outputs": [
    {
     "name": "stdout",
     "output_type": "stream",
     "text": [
      "-8\n"
     ]
    }
   ],
   "source": [
    "def discriminant(a, b, c):\n",
    "    return b**2 - 4*a*c\n",
    "\n",
    "# Function call with arguments\n",
    "result = discriminant(1, 2, 3)\n",
    "print(result)\n"
   ]
  },
  {
   "cell_type": "markdown",
   "id": "0b08bcb6",
   "metadata": {
    "slideshow": {
     "slide_type": "subslide"
    }
   },
   "source": [
    "We can provide default values for parameters, which allows us to call the function without providing that parameter:"
   ]
  },
  {
   "cell_type": "code",
   "execution_count": 23,
   "id": "5c1c7310",
   "metadata": {},
   "outputs": [
    {
     "name": "stdout",
     "output_type": "stream",
     "text": [
      "9\n"
     ]
    }
   ],
   "source": [
    "\n",
    "def discriminant(a=0, b=0, c=0):\n",
    "    return b**2 - 4*a*c\n",
    "\n",
    "# Function call with arguments\n",
    "result = discriminant(1, 3)\n",
    "print(result)\n"
   ]
  },
  {
   "cell_type": "markdown",
   "id": "84f7f4d5",
   "metadata": {
    "slideshow": {
     "slide_type": "subslide"
    }
   },
   "source": [
    "It is also possible to pass arguments by name, which allows you to pass arguments in any order:"
   ]
  },
  {
   "cell_type": "code",
   "execution_count": 25,
   "id": "84dcee54",
   "metadata": {},
   "outputs": [
    {
     "name": "stdout",
     "output_type": "stream",
     "text": [
      "4\n"
     ]
    }
   ],
   "source": [
    "def discriminant(a=0, b=0, c=0):\n",
    "    return b**2 - 4*a*c\n",
    "\n",
    "# Function call with arguments\n",
    "result = discriminant(c=1, b=2)\n",
    "print(result)\n"
   ]
  },
  {
   "cell_type": "markdown",
   "id": "7464f590",
   "metadata": {
    "slideshow": {
     "slide_type": "subslide"
    }
   },
   "source": [
    "It's good practice to provide a docstring for your functions, which describes what the function does and what parameters it expects."
   ]
  },
  {
   "cell_type": "code",
   "execution_count": 27,
   "id": "f5c2081c",
   "metadata": {},
   "outputs": [
    {
     "name": "stdout",
     "output_type": "stream",
     "text": [
      "Help on int object:\n",
      "\n",
      "class int(object)\n",
      " |  int([x]) -> integer\n",
      " |  int(x, base=10) -> integer\n",
      " |  \n",
      " |  Convert a number or string to an integer, or return 0 if no arguments\n",
      " |  are given.  If x is a number, return x.__int__().  For floating point\n",
      " |  numbers, this truncates towards zero.\n",
      " |  \n",
      " |  If x is not a number or if base is given, then x must be a string,\n",
      " |  bytes, or bytearray instance representing an integer literal in the\n",
      " |  given base.  The literal can be preceded by '+' or '-' and be surrounded\n",
      " |  by whitespace.  The base defaults to 10.  Valid bases are 0 and 2-36.\n",
      " |  Base 0 means to interpret the base from the string as an integer literal.\n",
      " |  >>> int('0b100', base=0)\n",
      " |  4\n",
      " |  \n",
      " |  Built-in subclasses:\n",
      " |      bool\n",
      " |  \n",
      " |  Methods defined here:\n",
      " |  \n",
      " |  __abs__(self, /)\n",
      " |      abs(self)\n",
      " |  \n",
      " |  __add__(self, value, /)\n",
      " |      Return self+value.\n",
      " |  \n",
      " |  __and__(self, value, /)\n",
      " |      Return self&value.\n",
      " |  \n",
      " |  __bool__(self, /)\n",
      " |      True if self else False\n",
      " |  \n",
      " |  __ceil__(...)\n",
      " |      Ceiling of an Integral returns itself.\n",
      " |  \n",
      " |  __divmod__(self, value, /)\n",
      " |      Return divmod(self, value).\n",
      " |  \n",
      " |  __eq__(self, value, /)\n",
      " |      Return self==value.\n",
      " |  \n",
      " |  __float__(self, /)\n",
      " |      float(self)\n",
      " |  \n",
      " |  __floor__(...)\n",
      " |      Flooring an Integral returns itself.\n",
      " |  \n",
      " |  __floordiv__(self, value, /)\n",
      " |      Return self//value.\n",
      " |  \n",
      " |  __format__(self, format_spec, /)\n",
      " |      Default object formatter.\n",
      " |  \n",
      " |  __ge__(self, value, /)\n",
      " |      Return self>=value.\n",
      " |  \n",
      " |  __getattribute__(self, name, /)\n",
      " |      Return getattr(self, name).\n",
      " |  \n",
      " |  __getnewargs__(self, /)\n",
      " |  \n",
      " |  __gt__(self, value, /)\n",
      " |      Return self>value.\n",
      " |  \n",
      " |  __hash__(self, /)\n",
      " |      Return hash(self).\n",
      " |  \n",
      " |  __index__(self, /)\n",
      " |      Return self converted to an integer, if self is suitable for use as an index into a list.\n",
      " |  \n",
      " |  __int__(self, /)\n",
      " |      int(self)\n",
      " |  \n",
      " |  __invert__(self, /)\n",
      " |      ~self\n",
      " |  \n",
      " |  __le__(self, value, /)\n",
      " |      Return self<=value.\n",
      " |  \n",
      " |  __lshift__(self, value, /)\n",
      " |      Return self<<value.\n",
      " |  \n",
      " |  __lt__(self, value, /)\n",
      " |      Return self<value.\n",
      " |  \n",
      " |  __mod__(self, value, /)\n",
      " |      Return self%value.\n",
      " |  \n",
      " |  __mul__(self, value, /)\n",
      " |      Return self*value.\n",
      " |  \n",
      " |  __ne__(self, value, /)\n",
      " |      Return self!=value.\n",
      " |  \n",
      " |  __neg__(self, /)\n",
      " |      -self\n",
      " |  \n",
      " |  __or__(self, value, /)\n",
      " |      Return self|value.\n",
      " |  \n",
      " |  __pos__(self, /)\n",
      " |      +self\n",
      " |  \n",
      " |  __pow__(self, value, mod=None, /)\n",
      " |      Return pow(self, value, mod).\n",
      " |  \n",
      " |  __radd__(self, value, /)\n",
      " |      Return value+self.\n",
      " |  \n",
      " |  __rand__(self, value, /)\n",
      " |      Return value&self.\n",
      " |  \n",
      " |  __rdivmod__(self, value, /)\n",
      " |      Return divmod(value, self).\n",
      " |  \n",
      " |  __repr__(self, /)\n",
      " |      Return repr(self).\n",
      " |  \n",
      " |  __rfloordiv__(self, value, /)\n",
      " |      Return value//self.\n",
      " |  \n",
      " |  __rlshift__(self, value, /)\n",
      " |      Return value<<self.\n",
      " |  \n",
      " |  __rmod__(self, value, /)\n",
      " |      Return value%self.\n",
      " |  \n",
      " |  __rmul__(self, value, /)\n",
      " |      Return value*self.\n",
      " |  \n",
      " |  __ror__(self, value, /)\n",
      " |      Return value|self.\n",
      " |  \n",
      " |  __round__(...)\n",
      " |      Rounding an Integral returns itself.\n",
      " |      Rounding with an ndigits argument also returns an integer.\n",
      " |  \n",
      " |  __rpow__(self, value, mod=None, /)\n",
      " |      Return pow(value, self, mod).\n",
      " |  \n",
      " |  __rrshift__(self, value, /)\n",
      " |      Return value>>self.\n",
      " |  \n",
      " |  __rshift__(self, value, /)\n",
      " |      Return self>>value.\n",
      " |  \n",
      " |  __rsub__(self, value, /)\n",
      " |      Return value-self.\n",
      " |  \n",
      " |  __rtruediv__(self, value, /)\n",
      " |      Return value/self.\n",
      " |  \n",
      " |  __rxor__(self, value, /)\n",
      " |      Return value^self.\n",
      " |  \n",
      " |  __sizeof__(self, /)\n",
      " |      Returns size in memory, in bytes.\n",
      " |  \n",
      " |  __sub__(self, value, /)\n",
      " |      Return self-value.\n",
      " |  \n",
      " |  __truediv__(self, value, /)\n",
      " |      Return self/value.\n",
      " |  \n",
      " |  __trunc__(...)\n",
      " |      Truncating an Integral returns itself.\n",
      " |  \n",
      " |  __xor__(self, value, /)\n",
      " |      Return self^value.\n",
      " |  \n",
      " |  as_integer_ratio(self, /)\n",
      " |      Return integer ratio.\n",
      " |      \n",
      " |      Return a pair of integers, whose ratio is exactly equal to the original int\n",
      " |      and with a positive denominator.\n",
      " |      \n",
      " |      >>> (10).as_integer_ratio()\n",
      " |      (10, 1)\n",
      " |      >>> (-10).as_integer_ratio()\n",
      " |      (-10, 1)\n",
      " |      >>> (0).as_integer_ratio()\n",
      " |      (0, 1)\n",
      " |  \n",
      " |  bit_length(self, /)\n",
      " |      Number of bits necessary to represent self in binary.\n",
      " |      \n",
      " |      >>> bin(37)\n",
      " |      '0b100101'\n",
      " |      >>> (37).bit_length()\n",
      " |      6\n",
      " |  \n",
      " |  conjugate(...)\n",
      " |      Returns self, the complex conjugate of any int.\n",
      " |  \n",
      " |  to_bytes(self, /, length, byteorder, *, signed=False)\n",
      " |      Return an array of bytes representing an integer.\n",
      " |      \n",
      " |      length\n",
      " |        Length of bytes object to use.  An OverflowError is raised if the\n",
      " |        integer is not representable with the given number of bytes.\n",
      " |      byteorder\n",
      " |        The byte order used to represent the integer.  If byteorder is 'big',\n",
      " |        the most significant byte is at the beginning of the byte array.  If\n",
      " |        byteorder is 'little', the most significant byte is at the end of the\n",
      " |        byte array.  To request the native byte order of the host system, use\n",
      " |        `sys.byteorder' as the byte order value.\n",
      " |      signed\n",
      " |        Determines whether two's complement is used to represent the integer.\n",
      " |        If signed is False and a negative integer is given, an OverflowError\n",
      " |        is raised.\n",
      " |  \n",
      " |  ----------------------------------------------------------------------\n",
      " |  Class methods defined here:\n",
      " |  \n",
      " |  from_bytes(bytes, byteorder, *, signed=False) from builtins.type\n",
      " |      Return the integer represented by the given array of bytes.\n",
      " |      \n",
      " |      bytes\n",
      " |        Holds the array of bytes to convert.  The argument must either\n",
      " |        support the buffer protocol or be an iterable object producing bytes.\n",
      " |        Bytes and bytearray are examples of built-in objects that support the\n",
      " |        buffer protocol.\n",
      " |      byteorder\n",
      " |        The byte order used to represent the integer.  If byteorder is 'big',\n",
      " |        the most significant byte is at the beginning of the byte array.  If\n",
      " |        byteorder is 'little', the most significant byte is at the end of the\n",
      " |        byte array.  To request the native byte order of the host system, use\n",
      " |        `sys.byteorder' as the byte order value.\n",
      " |      signed\n",
      " |        Indicates whether two's complement is used to represent the integer.\n",
      " |  \n",
      " |  ----------------------------------------------------------------------\n",
      " |  Static methods defined here:\n",
      " |  \n",
      " |  __new__(*args, **kwargs) from builtins.type\n",
      " |      Create and return a new object.  See help(type) for accurate signature.\n",
      " |  \n",
      " |  ----------------------------------------------------------------------\n",
      " |  Data descriptors defined here:\n",
      " |  \n",
      " |  denominator\n",
      " |      the denominator of a rational number in lowest terms\n",
      " |  \n",
      " |  imag\n",
      " |      the imaginary part of a complex number\n",
      " |  \n",
      " |  numerator\n",
      " |      the numerator of a rational number in lowest terms\n",
      " |  \n",
      " |  real\n",
      " |      the real part of a complex number\n",
      "\n"
     ]
    }
   ],
   "source": [
    "def discriminant(a=0, b=0, c=0):\n",
    "    \"\"\"\n",
    "    This function returns the discriminant of a quadratic equation.\n",
    "    \n",
    "    Parameters:\n",
    "    a (int): Coefficient of x^2, default is 0\n",
    "    b (int): Coefficient of x, default is 0\n",
    "    c (int): Constant, default is 0\n",
    "    \"\"\"\n",
    "    return b**2 - 4*a*c\n",
    "\n",
    "# Function call with arguments\n",
    "result = discriminant(c=1, a=2)\n",
    "help(result)\n"
   ]
  },
  {
   "cell_type": "markdown",
   "id": "c976c8c8",
   "metadata": {
    "slideshow": {
     "slide_type": "subslide"
    }
   },
   "source": [
    "## Unpacking Arguments\n",
    "\n",
    "Sometimes, you may want to pass a list or tuple of arguments to a function. You can use the `*` operator to unpack the arguments:\n",
    "\n",
    "You can also use the `**` operator to unpack keyword arguments."
   ]
  },
  {
   "cell_type": "code",
   "execution_count": 1,
   "id": "92333f9e",
   "metadata": {
    "slideshow": {
     "slide_type": "subslide"
    }
   },
   "outputs": [
    {
     "name": "stdout",
     "output_type": "stream",
     "text": [
      "1 2 3\n",
      "a b c\n"
     ]
    }
   ],
   "source": [
    "def my_function(a, b, c, d=None):\n",
    "    d = d or []\n",
    "    print(a, b, c)\n",
    "\n",
    "args = [1, 2, 3]\n",
    "my_function(*args)\n",
    "\n",
    "kwargs = {'a': 1, 'b': 2, 'c': 3}\n",
    "my_function(*kwargs) # equivalent to my_function(a=1, b=2, c=3)"
   ]
  },
  {
   "cell_type": "markdown",
   "id": "942cd286",
   "metadata": {
    "slideshow": {
     "slide_type": "subslide"
    }
   },
   "source": [
    "## Passing a Variable Number of Arguments\n",
    "\n",
    "If you don't know how many arguments you will need to pass to a function, you can use `*args` and `**kwargs` to pass a variable number of arguments.\n",
    "\n",
    "`*args` is used to pass a variable number of non-keyword arguments to a function, `**kwargs` is used to pass a variable number of keyword arguments to a function:\n"
   ]
  },
  {
   "cell_type": "code",
   "execution_count": 30,
   "id": "66e0a17a",
   "metadata": {},
   "outputs": [
    {
     "name": "stdout",
     "output_type": "stream",
     "text": [
      "(2, 3)\n",
      "{'a': 4, 'b': 5}\n"
     ]
    }
   ],
   "source": [
    "def my_function(*args,  **kwargs):\n",
    "    print(args)\n",
    "    print(kwargs)\n",
    "    # some_other_function(*args, **kwargs)\n",
    "\n",
    "my_function(2, 3, a=4, b=5)"
   ]
  },
  {
   "cell_type": "markdown",
   "id": "421c9570",
   "metadata": {
    "slideshow": {
     "slide_type": "subslide"
    }
   },
   "source": [
    "\n",
    "This is particularly useful when you are writing a function that wraps another function and you want to pass all (or most) of the arguments to the wrapped function."
   ]
  },
  {
   "cell_type": "markdown",
   "id": "fdef3bd0",
   "metadata": {
    "slideshow": {
     "slide_type": "fragment"
    }
   },
   "source": [
    "Note, however, that `*args` must come before `**kwargs` in the function definition. The actual names `args` and `kwargs` are not special though; you can use any names you like."
   ]
  },
  {
   "cell_type": "markdown",
   "id": "cb4367a1",
   "metadata": {
    "slideshow": {
     "slide_type": "slide"
    }
   },
   "source": [
    "## Lambda Functions\n",
    "\n",
    "Lambda functions are small, anonymous functions that can have any number of arguments, but only one expression.\n",
    "\n",
    "Lambda functions are useful when you need a simple function for a short period of time and are often used in functional programming, particularly with the `map()`, `filter()`, and `reduce()` functions.\n"
   ]
  },
  {
   "cell_type": "markdown",
   "id": "832e7ee1",
   "metadata": {
    "slideshow": {
     "slide_type": "subslide"
    }
   },
   "source": [
    "\n",
    "Lambda functions are defined using the `lambda` keyword, followed by a list of arguments, a colon, and an expression:"
   ]
  },
  {
   "cell_type": "code",
   "execution_count": 34,
   "id": "8a1ceb09",
   "metadata": {},
   "outputs": [
    {
     "name": "stdout",
     "output_type": "stream",
     "text": [
      "5\n"
     ]
    }
   ],
   "source": [
    "add = lambda x, y: x + y\n",
    "print(add(2, 3))"
   ]
  },
  {
   "cell_type": "markdown",
   "id": "4897506d",
   "metadata": {
    "slideshow": {
     "slide_type": "subslide"
    }
   },
   "source": [
    "Note that lambda functions can only contain a single expression, so you can't use statements like `return` or `pass`.\n",
    "\n",
    "We can use inline logicals in lambda functions though:"
   ]
  },
  {
   "cell_type": "code",
   "execution_count": 36,
   "id": "678a28a6",
   "metadata": {},
   "outputs": [
    {
     "name": "stdout",
     "output_type": "stream",
     "text": [
      "True\n"
     ]
    }
   ],
   "source": [
    "is_even = lambda x: (x % 2) == 0\n",
    "print(is_even(2))"
   ]
  },
  {
   "cell_type": "markdown",
   "id": "df91fe37",
   "metadata": {
    "slideshow": {
     "slide_type": "subslide"
    }
   },
   "source": [
    "\n",
    "Or:\n"
   ]
  },
  {
   "cell_type": "code",
   "execution_count": null,
   "id": "a5fc1ed9",
   "metadata": {},
   "outputs": [],
   "source": [
    "is_even = lambda x: x % 2 == 0 if x > 0 else False\n",
    "print(is_even(3))"
   ]
  },
  {
   "cell_type": "markdown",
   "id": "19b119d2",
   "metadata": {
    "slideshow": {
     "slide_type": "slide"
    }
   },
   "source": [
    "## Map, Filter, and Reduce"
   ]
  },
  {
   "cell_type": "markdown",
   "id": "d0b91cce",
   "metadata": {
    "slideshow": {
     "slide_type": "subslide"
    }
   },
   "source": [
    "### Map\n",
    "\n",
    "The `map()` function applies a function to each item in an iterable (e.g., a list) and returns a new iterable with the results.\n",
    "\n",
    "You can use `map()` with a lambda function:"
   ]
  },
  {
   "cell_type": "code",
   "execution_count": 38,
   "id": "60c512eb",
   "metadata": {},
   "outputs": [
    {
     "name": "stdout",
     "output_type": "stream",
     "text": [
      "<map object at 0x104257c70>\n"
     ]
    }
   ],
   "source": [
    "numbers = [1, 2, 3, 4, 5]\n",
    "squared = map(lambda x: x**2, numbers)\n",
    "\n",
    "print(squared)"
   ]
  },
  {
   "cell_type": "markdown",
   "id": "2c12f48d",
   "metadata": {
    "slideshow": {
     "slide_type": "subslide"
    }
   },
   "source": [
    "Note, we use `list()` to convert the result to a list, as `map()` returns an iterator."
   ]
  },
  {
   "cell_type": "markdown",
   "id": "3173e452",
   "metadata": {
    "slideshow": {
     "slide_type": "fragment"
    }
   },
   "source": [
    "This is not necessarily quicker than a list comprehension, but it can be more readable, especially when you are applying a function to multiple lists."
   ]
  },
  {
   "cell_type": "markdown",
   "id": "5d20abde",
   "metadata": {
    "slideshow": {
     "slide_type": "subslide"
    }
   },
   "source": [
    "\n",
    "### Filter\n",
    "\n",
    "The `filter()` function applies a function to each item in an iterable and returns a new iterable with the items for which the function returns `True`.\n",
    "\n",
    "You can use `filter()` with a lambda function:\n"
   ]
  },
  {
   "cell_type": "code",
   "execution_count": 41,
   "id": "6209cfc8",
   "metadata": {},
   "outputs": [
    {
     "name": "stdout",
     "output_type": "stream",
     "text": [
      "[2, 4]\n"
     ]
    }
   ],
   "source": [
    "numbers = [1, 2, 3, 4, 5]\n",
    "even = filter(is_even, numbers)\n",
    "\n",
    "print(list(even))\n"
   ]
  },
  {
   "cell_type": "markdown",
   "id": "a402a346",
   "metadata": {
    "slideshow": {
     "slide_type": "subslide"
    }
   },
   "source": [
    "### Reduce\n",
    "\n",
    "The `reduce()` function applies a function to the items in an iterable and returns a single value.\n",
    "\n",
    "This is also typically used with a lambda function:"
   ]
  },
  {
   "cell_type": "code",
   "execution_count": 43,
   "id": "898e131d",
   "metadata": {},
   "outputs": [
    {
     "name": "stdout",
     "output_type": "stream",
     "text": [
      "Help on built-in function reduce in module _functools:\n",
      "\n",
      "reduce(...)\n",
      "    reduce(function, sequence[, initial]) -> value\n",
      "    \n",
      "    Apply a function of two arguments cumulatively to the items of a sequence,\n",
      "    from left to right, so as to reduce the sequence to a single value.\n",
      "    For example, reduce(lambda x, y: x+y, [1, 2, 3, 4, 5]) calculates\n",
      "    ((((1+2)+3)+4)+5).  If initial is present, it is placed before the items\n",
      "    of the sequence in the calculation, and serves as a default when the\n",
      "    sequence is empty.\n",
      "\n"
     ]
    }
   ],
   "source": [
    "from functools import reduce \n",
    "\n",
    "numbers = [1, 2, 3, 4, 5]\n",
    "total = reduce(lambda x, y: x + y, numbers)\n",
    "\n",
    "help(reduce)"
   ]
  },
  {
   "cell_type": "markdown",
   "id": "efd11004",
   "metadata": {
    "slideshow": {
     "slide_type": "slide"
    }
   },
   "source": [
    "## Iterators and Generators"
   ]
  },
  {
   "cell_type": "markdown",
   "id": "6f644d13",
   "metadata": {
    "slideshow": {
     "slide_type": "subslide"
    }
   },
   "source": [
    "### Iterators\n",
    "\n",
    "An iterator is an object that represents a stream of data. It can be used to loop over a sequence of elements, one at a time.\n",
    "\n",
    "An iterator must implement two methods:\n",
    " - `__iter__()`: returns the iterator object itself\n",
    " - `__next__()`: returns the next element in the sequence\n",
    "\n",
    "When there are no more elements to return, `__next__()` should raise a `StopIteration` exception."
   ]
  },
  {
   "cell_type": "markdown",
   "id": "a70b5945",
   "metadata": {
    "slideshow": {
     "slide_type": "subslide"
    }
   },
   "source": [
    "\n",
    "You can create an iterator from an iterable object using the `iter()` function:\n"
   ]
  },
  {
   "cell_type": "code",
   "execution_count": 47,
   "id": "d2163e35",
   "metadata": {},
   "outputs": [
    {
     "name": "stdout",
     "output_type": "stream",
     "text": [
      "4\n"
     ]
    }
   ],
   "source": [
    "iterable = [1, 2, 3, 4, 5]\n",
    "iterator = iter(iterable)\n",
    "\n",
    "print(next(iterator))"
   ]
  },
  {
   "cell_type": "markdown",
   "id": "896aa462",
   "metadata": {
    "slideshow": {
     "slide_type": "subslide"
    }
   },
   "source": [
    "\n",
    "\n",
    "### Generators\n",
    "\n",
    "Generators are a special type of iterator that can be used to create iterators in a more concise way.\n",
    "\n",
    "Generators are defined using the `yield` keyword, which allows you to return a value from a function without terminating the function.\n",
    "\n",
    "When you call a generator function, it returns a generator object, which is an iterator that can be used to iterate over the values produced by the generator function.\n"
   ]
  },
  {
   "cell_type": "markdown",
   "id": "6aa8d580",
   "metadata": {
    "slideshow": {
     "slide_type": "subslide"
    }
   },
   "source": [
    "You can create a generator using a generator function:"
   ]
  },
  {
   "cell_type": "code",
   "execution_count": 5,
   "id": "23048a86",
   "metadata": {},
   "outputs": [
    {
     "name": "stdout",
     "output_type": "stream",
     "text": [
      "3\n"
     ]
    }
   ],
   "source": [
    "# def my_generator():\n",
    "#     yield 1\n",
    "#     yield 2\n",
    "#     yield 3\n",
    "\n",
    "# generator = my_generator()\n",
    "\n",
    "print(next(generator))"
   ]
  },
  {
   "cell_type": "markdown",
   "id": "1489c2c9",
   "metadata": {
    "slideshow": {
     "slide_type": "subslide"
    }
   },
   "source": [
    "You can also use a generator expression to create a generator:"
   ]
  },
  {
   "cell_type": "code",
   "execution_count": 58,
   "id": "b1b13f97",
   "metadata": {},
   "outputs": [
    {
     "name": "stdout",
     "output_type": "stream",
     "text": [
      "20\n"
     ]
    }
   ],
   "source": [
    "# generator = (x*10 for x in range(3000000))\n",
    "\n",
    "print(next(generator))"
   ]
  },
  {
   "cell_type": "markdown",
   "id": "884f363e",
   "metadata": {
    "slideshow": {
     "slide_type": "fragment"
    }
   },
   "source": [
    "\n",
    "\n",
    "Generators are useful when you need to generate a large number of values, but you don't want to store them all in memory at once."
   ]
  },
  {
   "cell_type": "markdown",
   "id": "e6fc2f90",
   "metadata": {
    "slideshow": {
     "slide_type": "subslide"
    }
   },
   "source": [
    "## Recursion\n",
    "\n",
    "Recursion is useful for problems that can be broken down into smaller, similar problems. A recursive function calls itself to solve subproblems."
   ]
  },
  {
   "cell_type": "markdown",
   "id": "c586a822",
   "metadata": {
    "slideshow": {
     "slide_type": "fragment"
    }
   },
   "source": [
    "When using recursion, you need to define a base case to prevent infinite recursion. This is the simplest form of the problem that can be solved directly. Then you can define the recursive case, which breaks the problem down into smaller subproblems."
   ]
  },
  {
   "cell_type": "code",
   "execution_count": null,
   "id": "96bd6129",
   "metadata": {
    "slideshow": {
     "slide_type": "subslide"
    }
   },
   "outputs": [],
   "source": [
    "# Example: Check if any element in the list is odd\n",
    "def anyOdd(lst):\n",
    "    if len(lst) == 0:  # Base case\n",
    "        return False\n",
    "    elif lst[0] % 2 == 1:  # If the first element is odd\n",
    "        return True\n",
    "    else:\n",
    "        smaller = lst[1:]\n",
    "        return anyOdd(smaller)\n",
    "\n",
    "print(anyOdd([2, 4, 6, 8]))  # False\n",
    "print(anyOdd([2, 4, 6, 7]))  # True\n"
   ]
  },
  {
   "cell_type": "markdown",
   "id": "844aadd5",
   "metadata": {
    "slideshow": {
     "slide_type": "subslide"
    }
   },
   "source": [
    "### Factorial using Recursion\n",
    "\n",
    "The factorial of a number is the product of all positive integers less than or equal to that number. Write a recursive function to compute the factorial of a number."
   ]
  },
  {
   "cell_type": "code",
   "execution_count": null,
   "id": "e64f7f8a",
   "metadata": {
    "slideshow": {
     "slide_type": "subslide"
    }
   },
   "outputs": [],
   "source": [
    "def fact(x):\n",
    "    if x == 0:  # Base case\n",
    "        # Blank A\n",
    "    else:\n",
    "        # Blank B\n",
    "\n",
    "print(fact(5))  # Output: 120"
   ]
  },
  {
   "cell_type": "markdown",
   "id": "679cae0c",
   "metadata": {},
   "source": [
    "Options: \n",
    " - A. `return 0`; `fact(x)`\n",
    " - B. `return 1`; `return x * fact(x-1)`\n",
    " - C. `return 1`; `return (x-1) * fact(x-1)`\n",
    " - D. `return 0`; `return x * fact(x-1)`"
   ]
  },
  {
   "cell_type": "markdown",
   "id": "50502f4c",
   "metadata": {
    "slideshow": {
     "slide_type": "slide"
    }
   },
   "source": [
    "\n",
    "## Summary\n",
    "\n",
    "Today, we covered the following topics:\n",
    " - Functions\n",
    "    - Lambda functions\n",
    " - Map, Filter, and Reduce\n",
    " - Iterators and Generators\n",
    " - Recursion"
   ]
  }
 ],
 "metadata": {
  "celltoolbar": "Slideshow",
  "kernelspec": {
   "display_name": "Python 3 (ipykernel)",
   "language": "python",
   "name": "python3"
  },
  "language_info": {
   "codemirror_mode": {
    "name": "ipython",
    "version": 3
   },
   "file_extension": ".py",
   "mimetype": "text/x-python",
   "name": "python",
   "nbconvert_exporter": "python",
   "pygments_lexer": "ipython3",
   "version": "3.13.7"
  }
 },
 "nbformat": 4,
 "nbformat_minor": 5
}
